{
 "cells": [
  {
   "cell_type": "markdown",
   "metadata": {},
   "source": [
    "# Project 2\n",
    "\n",
    "It is October 2018. The squirrels in Central Park are running into a problem and we need your help.\n",
    "\n",
    "For this project you must go through most steps in the checklist. You must write responses for all items however sometimes the item will simply be \"does not apply\". Some of the parts are a bit more nebulous and you simply show that you have done things in general (and the order doesn't really matter). Keep your progress and thoughts organized in this document and use formatting as appropriate (using markdown to add headers and sub-headers for each major part). Do not do the final part (launching the product) and your presentation will be done as information written in this document in a dedicated section, no slides or anything like that. It should however include the best summary plots/graphics/data points.\n",
    "\n",
    "You are intentionally given very little information thus far. You must communicate with your client (me) for additional information as necessary. But also make sure that your communications are efficient, thought out, and not redundant as your client might get frustrated and \"fire\" you (this only applies to getting information from your client, this does not necessary apply to asking for help with the actual project itself - you should continuously ask questions for getting help).\n",
    "\n",
    "You must submit all data files and a pickled preprocessor and final model along with this notebook."
   ]
  },
  {
   "cell_type": "markdown",
   "metadata": {},
   "source": [
    "### **Objective**\n",
    "\n",
    "- There is an outbreak affecting squirrels in Central Park, and we need to try and identify and manage the diseased ones using data from the Squirrel Census, which includes approximately 3,000 squirrel sightings. We aim to determine which squirrels tested positive for the disease and analyze these sightings to uncover patterns or indicators that could help predict the presence of the disease. It's important to note that squirrel behavior varies by type, and certain diseases may be influenced by fluctuating weather conditions. By understanding these factors, we hope to develop a more effective strategy for managing the outbreak.\n"
   ]
  },
  {
   "cell_type": "markdown",
   "metadata": {},
   "source": [
    "### *Imports Goes Here*"
   ]
  },
  {
   "cell_type": "code",
   "execution_count": 178,
   "metadata": {},
   "outputs": [],
   "source": [
    "import pandas as pd\n",
    "from sklearn.model_selection import train_test_split\n",
    "import matplotlib.pyplot as plt\n",
    "import seaborn as sns"
   ]
  },
  {
   "cell_type": "markdown",
   "metadata": {},
   "source": [
    "\n",
    "# **Get the Data**\n",
    "1. **List the data you need and how much you need:**\n",
    "    - Need weather data because squirrel sightings might vary per type of weather.\n",
    "    - daily NYC Weather data\n",
    "2. **Find and document where you can get that data:**\n",
    "    - Publicly available from: [Kaggle](https://www.kaggle.com/datasets/aadimator/nyc-weather-2016-to-2022)\n",
    "3. **Get access authorizations**: None needed, publicly available.\n"
   ]
  },
  {
   "cell_type": "markdown",
   "metadata": {},
   "source": [
    "### *Loading Datasets...*\n",
    "\n",
    "- To prepare for merging data later, we start by loading the necessary datasets\n",
    "\n"
   ]
  },
  {
   "cell_type": "code",
   "execution_count": 179,
   "metadata": {},
   "outputs": [],
   "source": [
    "squirrel_data = pd.read_csv(\"2018_Central_Park_Squirrel_Census_-_Squirrel_Data_20241105.csv\")\n",
    "weather_data = pd.read_csv(\"NYC_Weather_2016_2022.csv\")"
   ]
  },
  {
   "cell_type": "markdown",
   "metadata": {},
   "source": [
    "### *Functions for Cleaning and Merging Data*\n",
    "- In new dataset. (i.e. samples with dates that don't have a squirrel sighting on the same day.)\n",
    "- The `retrieve_weather_days` function filters the weather data to include only dates when squirrel sightings occurred. The `merge_datasets` function then combines the squirrel and weather datasets based on these matching dates.\n",
    "\n",
    "\n",
    "#### TODO: Currently drop samples and only keep the weather measurements at noon, potentially could make it so we take a average of the measurements in teh second or first half of the day relative to the `Shift` feature designating if it should be `AM` or `PM`."
   ]
  },
  {
   "cell_type": "code",
   "execution_count": 180,
   "metadata": {},
   "outputs": [
    {
     "name": "stderr",
     "output_type": "stream",
     "text": [
      "C:\\Users\\Colea\\AppData\\Local\\Temp\\ipykernel_19260\\1089361996.py:17: SettingWithCopyWarning: \n",
      "A value is trying to be set on a copy of a slice from a DataFrame.\n",
      "Try using .loc[row_indexer,col_indexer] = value instead\n",
      "\n",
      "See the caveats in the documentation: https://pandas.pydata.org/pandas-docs/stable/user_guide/indexing.html#returning-a-view-versus-a-copy\n",
      "  weather_dataset[\"Date\"] = pd.to_datetime(weather_dataset[\"time\"].dt.date)\n"
     ]
    }
   ],
   "source": [
    "import pandas as pd\n",
    "\n",
    "def retrieve_weather_days(weather_dataset, squirrel_dataset):\n",
    "    squirrel_dataset[\"Date\"] = pd.to_datetime(squirrel_dataset[\"Date\"], format='%m%d%Y')\n",
    "    sighting_dates = squirrel_dataset[\"Date\"].dt.date.unique().tolist()\n",
    "    weather_dataset[\"time\"] = pd.to_datetime(weather_dataset[\"time\"])\n",
    "    weather_dataset[\"Date\"] = weather_dataset[\"time\"].dt.date\n",
    "    weather_dataset = weather_dataset[weather_dataset[\"Date\"].isin(sighting_dates)]\n",
    "    \n",
    "    return weather_dataset\n",
    "\n",
    "# TODO: Fix merging\n",
    "def merge_datasets(weather_dataset, squirrel_dataset):\n",
    "    squirrel_dataset[\"Date\"] = pd.to_datetime(squirrel_dataset[\"Date\"], format='%m%d%Y')\n",
    "    weather_dataset[\"time\"] = pd.to_datetime(weather_dataset[\"time\"])\n",
    "    weather_dataset = weather_dataset[weather_dataset[\"time\"].dt.hour == 12]\n",
    "    weather_dataset[\"Date\"] = pd.to_datetime(weather_dataset[\"time\"].dt.date)\n",
    "    weather_dataset = weather_dataset.drop(columns=[\"time\"])\n",
    "    squirrel_dataset[\"Date\"] = pd.to_datetime(squirrel_dataset[\"Date\"])\n",
    "    merged_dataset = squirrel_dataset.merge(weather_dataset, on=\"Date\", how=\"inner\")\n",
    "    \n",
    "    return merged_dataset\n",
    "\n",
    "weather_data = retrieve_weather_days(weather_data, squirrel_data)\n",
    "data = merge_datasets(weather_data, squirrel_data)"
   ]
  },
  {
   "cell_type": "code",
   "execution_count": 181,
   "metadata": {},
   "outputs": [
    {
     "data": {
      "text/html": [
       "<div>\n",
       "<style scoped>\n",
       "    .dataframe tbody tr th:only-of-type {\n",
       "        vertical-align: middle;\n",
       "    }\n",
       "\n",
       "    .dataframe tbody tr th {\n",
       "        vertical-align: top;\n",
       "    }\n",
       "\n",
       "    .dataframe thead th {\n",
       "        text-align: right;\n",
       "    }\n",
       "</style>\n",
       "<table border=\"1\" class=\"dataframe\">\n",
       "  <thead>\n",
       "    <tr style=\"text-align: right;\">\n",
       "      <th></th>\n",
       "      <th>X</th>\n",
       "      <th>Y</th>\n",
       "      <th>Unique Squirrel ID</th>\n",
       "      <th>Hectare</th>\n",
       "      <th>Shift</th>\n",
       "      <th>Date</th>\n",
       "      <th>Hectare Squirrel Number</th>\n",
       "      <th>Age</th>\n",
       "      <th>Primary Fur Color</th>\n",
       "      <th>Highlight Fur Color</th>\n",
       "      <th>...</th>\n",
       "      <th>temperature_2m (°C)</th>\n",
       "      <th>precipitation (mm)</th>\n",
       "      <th>rain (mm)</th>\n",
       "      <th>cloudcover (%)</th>\n",
       "      <th>cloudcover_low (%)</th>\n",
       "      <th>cloudcover_mid (%)</th>\n",
       "      <th>cloudcover_high (%)</th>\n",
       "      <th>windspeed_10m (km/h)</th>\n",
       "      <th>winddirection_10m (°)</th>\n",
       "      <th>Diseased</th>\n",
       "    </tr>\n",
       "  </thead>\n",
       "  <tbody>\n",
       "    <tr>\n",
       "      <th>0</th>\n",
       "      <td>-73.956134</td>\n",
       "      <td>40.794082</td>\n",
       "      <td>37F-PM-1014-03</td>\n",
       "      <td>37F</td>\n",
       "      <td>PM</td>\n",
       "      <td>2018-10-14</td>\n",
       "      <td>3</td>\n",
       "      <td>NaN</td>\n",
       "      <td>NaN</td>\n",
       "      <td>NaN</td>\n",
       "      <td>...</td>\n",
       "      <td>9.5</td>\n",
       "      <td>0.0</td>\n",
       "      <td>0.0</td>\n",
       "      <td>56.0</td>\n",
       "      <td>0.0</td>\n",
       "      <td>58.0</td>\n",
       "      <td>71.0</td>\n",
       "      <td>5.1</td>\n",
       "      <td>309.0</td>\n",
       "      <td>False</td>\n",
       "    </tr>\n",
       "    <tr>\n",
       "      <th>1</th>\n",
       "      <td>-73.968857</td>\n",
       "      <td>40.783783</td>\n",
       "      <td>21B-AM-1019-04</td>\n",
       "      <td>21B</td>\n",
       "      <td>AM</td>\n",
       "      <td>2018-10-19</td>\n",
       "      <td>4</td>\n",
       "      <td>NaN</td>\n",
       "      <td>NaN</td>\n",
       "      <td>NaN</td>\n",
       "      <td>...</td>\n",
       "      <td>5.0</td>\n",
       "      <td>0.0</td>\n",
       "      <td>0.0</td>\n",
       "      <td>0.0</td>\n",
       "      <td>0.0</td>\n",
       "      <td>0.0</td>\n",
       "      <td>0.0</td>\n",
       "      <td>11.9</td>\n",
       "      <td>241.0</td>\n",
       "      <td>False</td>\n",
       "    </tr>\n",
       "    <tr>\n",
       "      <th>2</th>\n",
       "      <td>-73.974281</td>\n",
       "      <td>40.775534</td>\n",
       "      <td>11B-PM-1014-08</td>\n",
       "      <td>11B</td>\n",
       "      <td>PM</td>\n",
       "      <td>2018-10-14</td>\n",
       "      <td>8</td>\n",
       "      <td>NaN</td>\n",
       "      <td>Gray</td>\n",
       "      <td>NaN</td>\n",
       "      <td>...</td>\n",
       "      <td>9.5</td>\n",
       "      <td>0.0</td>\n",
       "      <td>0.0</td>\n",
       "      <td>56.0</td>\n",
       "      <td>0.0</td>\n",
       "      <td>58.0</td>\n",
       "      <td>71.0</td>\n",
       "      <td>5.1</td>\n",
       "      <td>309.0</td>\n",
       "      <td>False</td>\n",
       "    </tr>\n",
       "    <tr>\n",
       "      <th>3</th>\n",
       "      <td>-73.959641</td>\n",
       "      <td>40.790313</td>\n",
       "      <td>32E-PM-1017-14</td>\n",
       "      <td>32E</td>\n",
       "      <td>PM</td>\n",
       "      <td>2018-10-17</td>\n",
       "      <td>14</td>\n",
       "      <td>Adult</td>\n",
       "      <td>Gray</td>\n",
       "      <td>NaN</td>\n",
       "      <td>...</td>\n",
       "      <td>8.0</td>\n",
       "      <td>0.0</td>\n",
       "      <td>0.0</td>\n",
       "      <td>3.0</td>\n",
       "      <td>0.0</td>\n",
       "      <td>0.0</td>\n",
       "      <td>11.0</td>\n",
       "      <td>13.6</td>\n",
       "      <td>238.0</td>\n",
       "      <td>False</td>\n",
       "    </tr>\n",
       "    <tr>\n",
       "      <th>4</th>\n",
       "      <td>-73.970268</td>\n",
       "      <td>40.776213</td>\n",
       "      <td>13E-AM-1017-05</td>\n",
       "      <td>13E</td>\n",
       "      <td>AM</td>\n",
       "      <td>2018-10-17</td>\n",
       "      <td>5</td>\n",
       "      <td>Adult</td>\n",
       "      <td>Gray</td>\n",
       "      <td>Cinnamon</td>\n",
       "      <td>...</td>\n",
       "      <td>8.0</td>\n",
       "      <td>0.0</td>\n",
       "      <td>0.0</td>\n",
       "      <td>3.0</td>\n",
       "      <td>0.0</td>\n",
       "      <td>0.0</td>\n",
       "      <td>11.0</td>\n",
       "      <td>13.6</td>\n",
       "      <td>238.0</td>\n",
       "      <td>False</td>\n",
       "    </tr>\n",
       "  </tbody>\n",
       "</table>\n",
       "<p>5 rows × 41 columns</p>\n",
       "</div>"
      ],
      "text/plain": [
       "           X          Y Unique Squirrel ID Hectare Shift       Date  \\\n",
       "0 -73.956134  40.794082     37F-PM-1014-03     37F    PM 2018-10-14   \n",
       "1 -73.968857  40.783783     21B-AM-1019-04     21B    AM 2018-10-19   \n",
       "2 -73.974281  40.775534     11B-PM-1014-08     11B    PM 2018-10-14   \n",
       "3 -73.959641  40.790313     32E-PM-1017-14     32E    PM 2018-10-17   \n",
       "4 -73.970268  40.776213     13E-AM-1017-05     13E    AM 2018-10-17   \n",
       "\n",
       "   Hectare Squirrel Number    Age Primary Fur Color Highlight Fur Color  ...  \\\n",
       "0                        3    NaN               NaN                 NaN  ...   \n",
       "1                        4    NaN               NaN                 NaN  ...   \n",
       "2                        8    NaN              Gray                 NaN  ...   \n",
       "3                       14  Adult              Gray                 NaN  ...   \n",
       "4                        5  Adult              Gray            Cinnamon  ...   \n",
       "\n",
       "  temperature_2m (°C) precipitation (mm) rain (mm) cloudcover (%)  \\\n",
       "0                 9.5                0.0       0.0           56.0   \n",
       "1                 5.0                0.0       0.0            0.0   \n",
       "2                 9.5                0.0       0.0           56.0   \n",
       "3                 8.0                0.0       0.0            3.0   \n",
       "4                 8.0                0.0       0.0            3.0   \n",
       "\n",
       "  cloudcover_low (%)  cloudcover_mid (%)  cloudcover_high (%)  \\\n",
       "0                0.0                58.0                 71.0   \n",
       "1                0.0                 0.0                  0.0   \n",
       "2                0.0                58.0                 71.0   \n",
       "3                0.0                 0.0                 11.0   \n",
       "4                0.0                 0.0                 11.0   \n",
       "\n",
       "   windspeed_10m (km/h)  winddirection_10m (°)  Diseased  \n",
       "0                   5.1                  309.0     False  \n",
       "1                  11.9                  241.0     False  \n",
       "2                   5.1                  309.0     False  \n",
       "3                  13.6                  238.0     False  \n",
       "4                  13.6                  238.0     False  \n",
       "\n",
       "[5 rows x 41 columns]"
      ]
     },
     "execution_count": 181,
     "metadata": {},
     "output_type": "execute_result"
    }
   ],
   "source": [
    "# Load the diseased squirrels data\n",
    "diseased_squirrels = pd.read_csv(\"diseased_squirrels.csv\")\n",
    "\n",
    "# Add a column to indicate if the squirrel is diseased\n",
    "data['Diseased'] = data['Unique Squirrel ID'].isin(diseased_squirrels['Unique Squirrel ID'])\n",
    "\n",
    "# Display the first few rows to verify\n",
    "data.head()\n",
    "\n"
   ]
  },
  {
   "cell_type": "code",
   "execution_count": null,
   "metadata": {},
   "outputs": [
    {
     "data": {
      "text/html": [
       "<div>\n",
       "<style scoped>\n",
       "    .dataframe tbody tr th:only-of-type {\n",
       "        vertical-align: middle;\n",
       "    }\n",
       "\n",
       "    .dataframe tbody tr th {\n",
       "        vertical-align: top;\n",
       "    }\n",
       "\n",
       "    .dataframe thead th {\n",
       "        text-align: right;\n",
       "    }\n",
       "</style>\n",
       "<table border=\"1\" class=\"dataframe\">\n",
       "  <thead>\n",
       "    <tr style=\"text-align: right;\">\n",
       "      <th></th>\n",
       "      <th>X</th>\n",
       "      <th>Y</th>\n",
       "      <th>Unique Squirrel ID</th>\n",
       "      <th>Hectare</th>\n",
       "      <th>Shift</th>\n",
       "      <th>Date</th>\n",
       "      <th>Hectare Squirrel Number</th>\n",
       "      <th>Age</th>\n",
       "      <th>Primary Fur Color</th>\n",
       "      <th>Highlight Fur Color</th>\n",
       "      <th>...</th>\n",
       "      <th>temperature_2m (°C)</th>\n",
       "      <th>precipitation (mm)</th>\n",
       "      <th>rain (mm)</th>\n",
       "      <th>cloudcover (%)</th>\n",
       "      <th>cloudcover_low (%)</th>\n",
       "      <th>cloudcover_mid (%)</th>\n",
       "      <th>cloudcover_high (%)</th>\n",
       "      <th>windspeed_10m (km/h)</th>\n",
       "      <th>winddirection_10m (°)</th>\n",
       "      <th>Diseased</th>\n",
       "    </tr>\n",
       "  </thead>\n",
       "  <tbody>\n",
       "    <tr>\n",
       "      <th>0</th>\n",
       "      <td>-73.956134</td>\n",
       "      <td>40.794082</td>\n",
       "      <td>37F-PM-1014-03</td>\n",
       "      <td>37F</td>\n",
       "      <td>PM</td>\n",
       "      <td>2018-10-14</td>\n",
       "      <td>3</td>\n",
       "      <td>NaN</td>\n",
       "      <td>NaN</td>\n",
       "      <td>NaN</td>\n",
       "      <td>...</td>\n",
       "      <td>9.5</td>\n",
       "      <td>0.0</td>\n",
       "      <td>0.0</td>\n",
       "      <td>56.0</td>\n",
       "      <td>0.0</td>\n",
       "      <td>58.0</td>\n",
       "      <td>71.0</td>\n",
       "      <td>5.1</td>\n",
       "      <td>309.0</td>\n",
       "      <td>False</td>\n",
       "    </tr>\n",
       "    <tr>\n",
       "      <th>1</th>\n",
       "      <td>-73.968857</td>\n",
       "      <td>40.783783</td>\n",
       "      <td>21B-AM-1019-04</td>\n",
       "      <td>21B</td>\n",
       "      <td>AM</td>\n",
       "      <td>2018-10-19</td>\n",
       "      <td>4</td>\n",
       "      <td>NaN</td>\n",
       "      <td>NaN</td>\n",
       "      <td>NaN</td>\n",
       "      <td>...</td>\n",
       "      <td>5.0</td>\n",
       "      <td>0.0</td>\n",
       "      <td>0.0</td>\n",
       "      <td>0.0</td>\n",
       "      <td>0.0</td>\n",
       "      <td>0.0</td>\n",
       "      <td>0.0</td>\n",
       "      <td>11.9</td>\n",
       "      <td>241.0</td>\n",
       "      <td>False</td>\n",
       "    </tr>\n",
       "    <tr>\n",
       "      <th>2</th>\n",
       "      <td>-73.974281</td>\n",
       "      <td>40.775534</td>\n",
       "      <td>11B-PM-1014-08</td>\n",
       "      <td>11B</td>\n",
       "      <td>PM</td>\n",
       "      <td>2018-10-14</td>\n",
       "      <td>8</td>\n",
       "      <td>NaN</td>\n",
       "      <td>Gray</td>\n",
       "      <td>NaN</td>\n",
       "      <td>...</td>\n",
       "      <td>9.5</td>\n",
       "      <td>0.0</td>\n",
       "      <td>0.0</td>\n",
       "      <td>56.0</td>\n",
       "      <td>0.0</td>\n",
       "      <td>58.0</td>\n",
       "      <td>71.0</td>\n",
       "      <td>5.1</td>\n",
       "      <td>309.0</td>\n",
       "      <td>False</td>\n",
       "    </tr>\n",
       "    <tr>\n",
       "      <th>3</th>\n",
       "      <td>-73.959641</td>\n",
       "      <td>40.790313</td>\n",
       "      <td>32E-PM-1017-14</td>\n",
       "      <td>32E</td>\n",
       "      <td>PM</td>\n",
       "      <td>2018-10-17</td>\n",
       "      <td>14</td>\n",
       "      <td>Adult</td>\n",
       "      <td>Gray</td>\n",
       "      <td>NaN</td>\n",
       "      <td>...</td>\n",
       "      <td>8.0</td>\n",
       "      <td>0.0</td>\n",
       "      <td>0.0</td>\n",
       "      <td>3.0</td>\n",
       "      <td>0.0</td>\n",
       "      <td>0.0</td>\n",
       "      <td>11.0</td>\n",
       "      <td>13.6</td>\n",
       "      <td>238.0</td>\n",
       "      <td>False</td>\n",
       "    </tr>\n",
       "    <tr>\n",
       "      <th>4</th>\n",
       "      <td>-73.970268</td>\n",
       "      <td>40.776213</td>\n",
       "      <td>13E-AM-1017-05</td>\n",
       "      <td>13E</td>\n",
       "      <td>AM</td>\n",
       "      <td>2018-10-17</td>\n",
       "      <td>5</td>\n",
       "      <td>Adult</td>\n",
       "      <td>Gray</td>\n",
       "      <td>Cinnamon</td>\n",
       "      <td>...</td>\n",
       "      <td>8.0</td>\n",
       "      <td>0.0</td>\n",
       "      <td>0.0</td>\n",
       "      <td>3.0</td>\n",
       "      <td>0.0</td>\n",
       "      <td>0.0</td>\n",
       "      <td>11.0</td>\n",
       "      <td>13.6</td>\n",
       "      <td>238.0</td>\n",
       "      <td>False</td>\n",
       "    </tr>\n",
       "  </tbody>\n",
       "</table>\n",
       "<p>5 rows × 41 columns</p>\n",
       "</div>"
      ],
      "text/plain": [
       "           X          Y Unique Squirrel ID Hectare Shift       Date  \\\n",
       "0 -73.956134  40.794082     37F-PM-1014-03     37F    PM 2018-10-14   \n",
       "1 -73.968857  40.783783     21B-AM-1019-04     21B    AM 2018-10-19   \n",
       "2 -73.974281  40.775534     11B-PM-1014-08     11B    PM 2018-10-14   \n",
       "3 -73.959641  40.790313     32E-PM-1017-14     32E    PM 2018-10-17   \n",
       "4 -73.970268  40.776213     13E-AM-1017-05     13E    AM 2018-10-17   \n",
       "\n",
       "   Hectare Squirrel Number    Age Primary Fur Color Highlight Fur Color  ...  \\\n",
       "0                        3    NaN               NaN                 NaN  ...   \n",
       "1                        4    NaN               NaN                 NaN  ...   \n",
       "2                        8    NaN              Gray                 NaN  ...   \n",
       "3                       14  Adult              Gray                 NaN  ...   \n",
       "4                        5  Adult              Gray            Cinnamon  ...   \n",
       "\n",
       "  temperature_2m (°C) precipitation (mm) rain (mm) cloudcover (%)  \\\n",
       "0                 9.5                0.0       0.0           56.0   \n",
       "1                 5.0                0.0       0.0            0.0   \n",
       "2                 9.5                0.0       0.0           56.0   \n",
       "3                 8.0                0.0       0.0            3.0   \n",
       "4                 8.0                0.0       0.0            3.0   \n",
       "\n",
       "  cloudcover_low (%)  cloudcover_mid (%)  cloudcover_high (%)  \\\n",
       "0                0.0                58.0                 71.0   \n",
       "1                0.0                 0.0                  0.0   \n",
       "2                0.0                58.0                 71.0   \n",
       "3                0.0                 0.0                 11.0   \n",
       "4                0.0                 0.0                 11.0   \n",
       "\n",
       "   windspeed_10m (km/h)  winddirection_10m (°)  Diseased  \n",
       "0                   5.1                  309.0     False  \n",
       "1                  11.9                  241.0     False  \n",
       "2                   5.1                  309.0     False  \n",
       "3                  13.6                  238.0     False  \n",
       "4                  13.6                  238.0     False  \n",
       "\n",
       "[5 rows x 41 columns]"
      ]
     },
     "execution_count": 182,
     "metadata": {},
     "output_type": "execute_result"
    }
   ],
   "source": [
    "data.head()"
   ]
  },
  {
   "cell_type": "markdown",
   "metadata": {},
   "source": [
    "### *Data Information*\n",
    "\n",
    "- The dataset contains 72,552 entries and 41 columns, with a mix of numerical, categorical, and boolean data types. Some columns, like `Age`, `Primary Fur Color`, and `Location`, have missing values, especially `Highlight Fur Color` and `Specific Location`. While most columns are complete, some require cleaning due to missing data, especially for location-related attributes."
   ]
  },
  {
   "cell_type": "code",
   "execution_count": null,
   "metadata": {},
   "outputs": [],
   "source": [
    "data.info()"
   ]
  },
  {
   "cell_type": "code",
   "execution_count": null,
   "metadata": {},
   "outputs": [],
   "source": [
    "data.describe()"
   ]
  },
  {
   "cell_type": "markdown",
   "metadata": {},
   "source": [
    "### *Histograms*\n",
    "- The data on squirrel sightings in Central Park during October 2018 reveals several patterns. Squirrel sightings are concentrated in specific areas, with X and Y coordinates showing bell-shaped distributions. Sightings occurred on various dates, with certain days experiencing higher counts. The number of squirrels per hectare is right-skewed, suggesting that most areas had few squirrels. Temperatures ranged from 10-20°C, typical for October in New York, while precipitation and rain were both right-skewed, indicating mostly dry conditions. Cloud cover data shows peaks at either clear or fully clouded skies, with few instances of partial cover. Wind speeds clustered between 5-15 km/h, typical for urban environments, and wind direction appeared to be uniformly distributed across various directions."
   ]
  },
  {
   "cell_type": "code",
   "execution_count": null,
   "metadata": {},
   "outputs": [],
   "source": [
    "data.hist(bins=50, figsize=(20,15));"
   ]
  },
  {
   "cell_type": "markdown",
   "metadata": {},
   "source": [
    "### *Splitting The Data Into Two Subsets*\n",
    "\n",
    "-  The `train_set` containing 80% of the data for training and `test_set` containing 20% for testing, with the split being reproducible due to the specified `random_state`."
   ]
  },
  {
   "cell_type": "code",
   "execution_count": null,
   "metadata": {},
   "outputs": [],
   "source": [
    "train_set, test_set = train_test_split(data, test_size=0.2, random_state=42)"
   ]
  },
  {
   "cell_type": "markdown",
   "metadata": {},
   "source": [
    "### *Saving Data to a CSV File*"
   ]
  },
  {
   "cell_type": "code",
   "execution_count": null,
   "metadata": {},
   "outputs": [],
   "source": [
    "data.to_csv(\"merged_data.csv\", index=False)"
   ]
  },
  {
   "cell_type": "markdown",
   "metadata": {},
   "source": [
    "### *Creating a Copy of the Training Set*"
   ]
  },
  {
   "cell_type": "code",
   "execution_count": null,
   "metadata": {},
   "outputs": [],
   "source": [
    "data = train_set.copy()"
   ]
  },
  {
   "cell_type": "markdown",
   "metadata": {},
   "source": [
    "# **Data Exploration**"
   ]
  },
  {
   "cell_type": "markdown",
   "metadata": {},
   "source": [
    "### *Heatmap of Squirrel Sightings in Central Park*"
   ]
  },
  {
   "cell_type": "code",
   "execution_count": null,
   "metadata": {},
   "outputs": [],
   "source": [
    "plt.figure(figsize=(12,8))\n",
    "plt.hexbin(data['X'], data['Y'], gridsize=50, cmap='coolwarm', mincnt=1)\n",
    "plt.colorbar(label='Number of Sightings')\n",
    "plt.title('Heatmap of Squirrel Sightings in Central Park', fontsize=18)\n",
    "plt.xlabel('X Coordinate', fontsize=14)\n",
    "plt.ylabel('Y Coordinate', fontsize=14)\n",
    "plt.show()"
   ]
  },
  {
   "cell_type": "markdown",
   "metadata": {},
   "source": [
    "### *Correlation Matrix For Numerical Features*"
   ]
  },
  {
   "cell_type": "code",
   "execution_count": null,
   "metadata": {},
   "outputs": [],
   "source": [
    "# Select only numerical columns\n",
    "numerical_data = data.select_dtypes(include=['float64', 'int64'])\n",
    "\n",
    "correlation_matrix = numerical_data.corr()\n",
    "plt.figure(figsize=(12, 8))\n",
    "sns.heatmap(correlation_matrix, annot=True, cmap='coolwarm', fmt='.2f')\n",
    "plt.title('Correlation Matrix of Numerical Features')\n",
    "plt.show()\n"
   ]
  },
  {
   "cell_type": "markdown",
   "metadata": {},
   "source": [
    "### *Average Squirrel Sighting Based Off Temperature*"
   ]
  },
  {
   "cell_type": "code",
   "execution_count": null,
   "metadata": {},
   "outputs": [],
   "source": [
    "# Create temperature bins for grouping\n",
    "bins = [0, 5, 10, 15, 20, 25, 30]\n",
    "labels = ['0-5°C', '5-10°C', '10-15°C', '15-20°C', '20-25°C', '25-30°C']\n",
    "data['Temperature Range'] = pd.cut(data['temperature_2m (°C)'], bins=bins, labels=labels)\n",
    "\n",
    "# Group by temperature range and calculate the mean number of squirrel sightings\n",
    "temperature_grouped = data.groupby('Temperature Range')['Hectare Squirrel Number'].mean().reset_index()\n",
    "\n",
    "# Create the bar plot\n",
    "plt.figure(figsize=(10,6))\n",
    "sns.barplot(x='Temperature Range', y='Hectare Squirrel Number', data=temperature_grouped, palette='viridis')\n",
    "plt.title('Average Squirrel Sightings by Temperature Range', fontsize=18)\n",
    "plt.xlabel('Temperature Range (°C)', fontsize=14)\n",
    "plt.ylabel('Average Number of Squirrel Sightings', fontsize=14)\n",
    "plt.xticks(rotation=45)\n",
    "plt.show()\n"
   ]
  },
  {
   "cell_type": "markdown",
   "metadata": {},
   "source": [
    "#### Some of the big blank areas below are bodies of water in central park."
   ]
  },
  {
   "cell_type": "code",
   "execution_count": null,
   "metadata": {},
   "outputs": [],
   "source": [
    "diseased_data = data[data['Diseased'] == True]\n",
    "non_diseased_data = data[data['Diseased'] == False]\n",
    "plt.figure(figsize=(12,8))\n",
    "plt.scatter(non_diseased_data['X'], non_diseased_data['Y'], c='green', label='Non-Diseased', alpha=0.5, s=10)\n",
    "plt.scatter(diseased_data['X'], diseased_data['Y'], c='red', label='Diseased', alpha=0.5, s=10)\n",
    "plt.title('Location of Diseased vs Non-Diseased Squirrels in Central Park', fontsize=18)\n",
    "plt.xlabel('X Coordinate', fontsize=14)\n",
    "plt.ylabel('Y Coordinate', fontsize=14)\n",
    "plt.legend()\n",
    "plt.show()"
   ]
  },
  {
   "cell_type": "code",
   "execution_count": null,
   "metadata": {},
   "outputs": [],
   "source": [
    "#plots the highlight fur color of the squirrels correlation with the diseased squirrels\n",
    "plt.figure(figsize=(12,8))\n",
    "sns.countplot(x='Primary Fur Color', hue='Diseased', data=data, palette='viridis')\n",
    "plt.title('Primary Fur Color of Squirrels by Diseased Status', fontsize=18)\n",
    "plt.xlabel('Primary Fur Color', fontsize=14)\n",
    "plt.ylabel('Number of Squirrels', fontsize=14)\n",
    "plt.show()"
   ]
  },
  {
   "cell_type": "code",
   "execution_count": null,
   "metadata": {},
   "outputs": [],
   "source": [
    "# Actual Percentage values\n",
    "value_counts = data['Primary Fur Color'].value_counts()\n",
    "diseased_data = data[data['Diseased'] == True]\n",
    "diseased_counts = diseased_data['Primary Fur Color'].value_counts()\n",
    "vals = (diseased_counts / value_counts).to_dict()\n",
    "print(vals)"
   ]
  },
  {
   "cell_type": "markdown",
   "metadata": {},
   "source": [
    "#### Found some anomalies in the data's diseased squirrels with a decent amount being `NaN` of `Null` Could be a potential issue in the future."
   ]
  },
  {
   "cell_type": "code",
   "execution_count": null,
   "metadata": {},
   "outputs": [],
   "source": [
    "data[\"Primary Fur Color\"].isnull().sum()"
   ]
  },
  {
   "cell_type": "code",
   "execution_count": null,
   "metadata": {},
   "outputs": [],
   "source": [
    "filtered_rows = data[(data[\"Diseased\"] == True) & (data[\"Primary Fur Color\"].isna())]\n",
    "bad_ids = []\n",
    "for _, i in filtered_rows.iterrows():\n",
    "    bad_ids.append(i[\"Unique Squirrel ID\"])\n",
    "print(bad_ids)"
   ]
  },
  {
   "cell_type": "code",
   "execution_count": null,
   "metadata": {},
   "outputs": [],
   "source": [
    "# Anomalies\n",
    "full_set = []\n",
    "for _, row in data[data[\"Diseased\"] == True].iterrows():\n",
    "    sub_map = {}\n",
    "    for col in data.columns:\n",
    "        value = row[col]\n",
    "        sub_map[col] = pd.isna(value)\n",
    "    full_set.append(sub_map)\n",
    "\n",
    "bad_rows = pd.DataFrame(full_set)\n",
    "bad_rows"
   ]
  }
 ],
 "metadata": {
  "kernelspec": {
   "display_name": "Python 3",
   "language": "python",
   "name": "python3"
  },
  "language_info": {
   "codemirror_mode": {
    "name": "ipython",
    "version": 3
   },
   "file_extension": ".py",
   "mimetype": "text/x-python",
   "name": "python",
   "nbconvert_exporter": "python",
   "pygments_lexer": "ipython3",
   "version": "3.12.6"
  }
 },
 "nbformat": 4,
 "nbformat_minor": 2
}
