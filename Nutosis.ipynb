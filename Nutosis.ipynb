{
 "cells": [
  {
   "cell_type": "markdown",
   "metadata": {},
   "source": [
    "# Project 2\n",
    "\n",
    "It is October 2018. The squirrels in Central Park are running into a problem and we need your help.\n",
    "\n",
    "For this project you must go through most steps in the checklist. You must write responses for all items however sometimes the item will simply be \"does not apply\". Some of the parts are a bit more nebulous and you simply show that you have done things in general (and the order doesn't really matter). Keep your progress and thoughts organized in this document and use formatting as appropriate (using markdown to add headers and sub-headers for each major part). Do not do the final part (launching the product) and your presentation will be done as information written in this document in a dedicated section, no slides or anything like that. It should however include the best summary plots/graphics/data points.\n",
    "\n",
    "You are intentionally given very little information thus far. You must communicate with your client (me) for additional information as necessary. But also make sure that your communications are efficient, thought out, and not redundant as your client might get frustrated and \"fire\" you (this only applies to getting information from your client, this does not necessary apply to asking for help with the actual project itself - you should continuously ask questions for getting help).\n",
    "\n",
    "You must submit all data files and a pickled preprocessor and final model along with this notebook."
   ]
  },
  {
   "cell_type": "markdown",
   "metadata": {},
   "source": []
  },
  {
   "cell_type": "code",
   "execution_count": 20,
   "metadata": {},
   "outputs": [],
   "source": [
    "import pandas as pd\n",
    "from sklearn.model_selection import train_test_split"
   ]
  },
  {
   "cell_type": "code",
   "execution_count": 21,
   "metadata": {},
   "outputs": [],
   "source": [
    "# Loading datasets...\n",
    "squirrel_data = pd.read_csv(\"2018_Central_Park_Squirrel_Census_-_Squirrel_Data_20241105.csv\")\n",
    "weather_data = pd.read_csv(\"NYC_Weather_2016_2022.csv\")"
   ]
  },
  {
   "cell_type": "code",
   "execution_count": 22,
   "metadata": {},
   "outputs": [
    {
     "data": {
      "text/plain": [
       "Date\n",
       "10132018    434\n",
       "10072018    405\n",
       "10142018    368\n",
       "10062018    337\n",
       "10102018    335\n",
       "10082018    285\n",
       "10122018    218\n",
       "10172018    216\n",
       "10182018    200\n",
       "10192018    158\n",
       "10202018     67\n",
       "Name: count, dtype: int64"
      ]
     },
     "execution_count": 22,
     "metadata": {},
     "output_type": "execute_result"
    }
   ],
   "source": [
    "squirrel_data[\"Date\"].value_counts()"
   ]
  },
  {
   "cell_type": "markdown",
   "metadata": {},
   "source": [
    "Get the Data\n",
    "================\n",
    "\n",
    "1. **List the data you need and how much you need:**\n",
    "    - Need weather data because squirrel sightings might vary per type of weather.\n",
    "    - daily NYC Weather data\n",
    "2. **Find and document where you can get that data:**\n",
    "    - Publicly available from: [Kaggle](https://www.kaggle.com/datasets/aadimator/nyc-weather-2016-to-2022)\n",
    "3. **Get access authorizations**: None needed, publicly available."
   ]
  },
  {
   "cell_type": "markdown",
   "metadata": {},
   "source": [
    "# Must get rid of useless data:\n",
    "- In new dataset. (i.e. samples with dates that don't have a squirrel sighting on the same day.)"
   ]
  },
  {
   "cell_type": "code",
   "execution_count": null,
   "metadata": {},
   "outputs": [],
   "source": [
    "import pandas as pd\n",
    "\n",
    "def retrieve_weather_days(weather_dataset, squirrel_dataset):\n",
    "    squirrel_dataset[\"Date\"] = pd.to_datetime(squirrel_dataset[\"Date\"], format='%m%d%Y')\n",
    "    sighting_dates = squirrel_dataset[\"Date\"].dt.date.unique().tolist()\n",
    "    weather_dataset[\"time\"] = pd.to_datetime(weather_dataset[\"time\"])\n",
    "    weather_dataset[\"Date\"] = weather_dataset[\"time\"].dt.date\n",
    "    weather_dataset = weather_dataset[weather_dataset[\"Date\"].isin(sighting_dates)]\n",
    "    \n",
    "    return weather_dataset\n",
    "\n",
    "# TODO: Fix merging\n",
    "def merge_datasets(weather_dataset, squirrel_dataset):\n",
    "    squirrel_dataset[\"Date\"] = pd.to_datetime(squirrel_dataset[\"Date\"], format='%m%d%Y')\n",
    "    weather_dataset[\"time\"] = pd.to_datetime(weather_dataset[\"time\"])\n",
    "    weather_dataset[\"Date\"] = pd.to_datetime(weather_dataset[\"time\"].dt.date)\n",
    "    merged_dataset = squirrel_dataset.merge(weather_dataset, on=\"Date\", how=\"inner\")\n",
    "    \n",
    "    return merged_dataset\n",
    "\n",
    "weather_data = retrieve_weather_days(weather_data, squirrel_data)\n",
    "data = merge_datasets(weather_data, squirrel_data)"
   ]
  },
  {
   "cell_type": "code",
   "execution_count": 25,
   "metadata": {},
   "outputs": [],
   "source": [
    "train_set, test_set = train_test_split(data, test_size=0.2, random_state=42)"
   ]
  },
  {
   "cell_type": "code",
   "execution_count": 26,
   "metadata": {},
   "outputs": [],
   "source": [
    "data.to_csv(\"merged_data.csv\", index=False)"
   ]
  }
 ],
 "metadata": {
  "kernelspec": {
   "display_name": "Python 3",
   "language": "python",
   "name": "python3"
  },
  "language_info": {
   "codemirror_mode": {
    "name": "ipython",
    "version": 3
   },
   "file_extension": ".py",
   "mimetype": "text/x-python",
   "name": "python",
   "nbconvert_exporter": "python",
   "pygments_lexer": "ipython3",
   "version": "3.12.6"
  }
 },
 "nbformat": 4,
 "nbformat_minor": 2
}
